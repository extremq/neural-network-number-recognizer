{
 "cells": [
  {
   "cell_type": "code",
   "execution_count": 1,
   "metadata": {},
   "outputs": [],
   "source": [
    "import numpy\n",
    "import matplotlib.pyplot\n",
    "import scipy.special\n",
    "import scipy.misc\n",
    "%matplotlib inline\n"
   ]
  },
  {
   "cell_type": "code",
   "execution_count": 2,
   "metadata": {},
   "outputs": [],
   "source": [
    "# neural network class definition\n",
    "class neuralNetwork:\n",
    "    # initialise the neural network\n",
    "    def __init__(self, input_nodes, hidden_nodes, output_nodes, learning_rate):\n",
    "        # set number of nodes in each input, hidden, output layer\n",
    "        self.input_nodes = input_nodes\n",
    "        self.hidden_nodes = hidden_nodes\n",
    "        self.output_nodes = output_nodes\n",
    "\n",
    "        # set learning rate\n",
    "        self.learning_rate = learning_rate\n",
    "\n",
    "        # activation function is the sigmoid function\n",
    "        self.activation_function = lambda x: scipy.special.expit(x)\n",
    "\n",
    "        # link weight matrices, weight_input_hidden and weight_hidden_output\n",
    "        # weights inside the arrays are weight_i_j, where link is from node i to node j in the next layer\n",
    "        # w11 w21\n",
    "        # w12 w22 etc\n",
    "        # init with values inside [-0.5, 0.5]\n",
    "        # TODO incearca si cu numpy.random.normal\n",
    "        self.weight_input_hidden = numpy.random.rand(\n",
    "            self.hidden_nodes, self.input_nodes) - 0.5\n",
    "        self.weight_hidden_output = numpy.random.rand(\n",
    "            self.output_nodes, self.hidden_nodes) - 0.5\n",
    "\n",
    "    # train the neural network\n",
    "    def train(self, inputs_list, targets_list):\n",
    "        # convert inputs list to 2d array\n",
    "        inputs = numpy.array(inputs_list, ndmin=2).T\n",
    "        targets = numpy.array(targets_list, ndmin=2).T\n",
    "\n",
    "        # calculate signals into hidden layer\n",
    "        hidden_inputs = numpy.dot(self.weight_input_hidden, inputs)\n",
    "        # calculate the signals emerging from hidden layer\n",
    "        hidden_outputs = self.activation_function(hidden_inputs)\n",
    "\n",
    "        # calculate the signals into final output layer\n",
    "        final_inputs = numpy.dot(self.weight_hidden_output, hidden_outputs)\n",
    "        # calculate the signals emerging from final output layer\n",
    "        final_outputs = self.activation_function(final_inputs)\n",
    "\n",
    "        # error is (target - actual)\n",
    "        output_errors = (targets - final_outputs)\n",
    "\n",
    "        # hidden layer error is the output_errors, split by weights, recombined at hidden nodes\n",
    "        hidden_errors = numpy.dot(self.weight_hidden_output.T, output_errors)\n",
    "\n",
    "        # update the weights\n",
    "        self.weight_hidden_output += self.learning_rate * numpy.dot(output_errors * final_outputs * (1 - final_outputs),\n",
    "                                                                    numpy.transpose(hidden_outputs))\n",
    "\n",
    "        # update the weights\n",
    "        self.weight_input_hidden += self.learning_rate * numpy.dot(hidden_errors * hidden_outputs * (1 - hidden_outputs),\n",
    "                                                                   numpy.transpose(inputs))\n",
    "\n",
    "    # query the neural network\n",
    "    def query(self, inputs_list):\n",
    "        # convert inputs list to 2d array\n",
    "        inputs = numpy.array(inputs_list, ndmin=2).T\n",
    "\n",
    "        # calculate signals into hidden layer\n",
    "        hidden_inputs = numpy.dot(self.weight_input_hidden, inputs)\n",
    "        # calculate the signals emerging from hidden layer\n",
    "        hidden_outputs = self.activation_function(hidden_inputs)\n",
    "\n",
    "        # calculate the signals into final output layer\n",
    "        final_inputs = numpy.dot(self.weight_hidden_output, hidden_outputs)\n",
    "        # calculate the signals emerging from final output layer\n",
    "        final_outputs = self.activation_function(final_inputs)\n",
    "\n",
    "        return final_outputs\n"
   ]
  },
  {
   "cell_type": "code",
   "execution_count": 3,
   "metadata": {},
   "outputs": [],
   "source": [
    "# Training\n",
    "\n",
    "# Get dataset\n",
    "data_file = open(\"mnist_dataset/mnist_train.csv\", 'r')\n",
    "data_list = data_file.readlines()\n",
    "data_file.close()\n",
    "\n",
    "# number of input, hidden, output nodes and epochs\n",
    "input_nodes = 28 ** 2\n",
    "hidden_nodes = 300\n",
    "output_nodes = 10\n",
    "epochs = 20\n",
    "learning_rate = 0.02\n",
    "\n",
    "# create instance of neural network\n",
    "network = neuralNetwork(input_nodes=input_nodes,\n",
    "                        hidden_nodes=hidden_nodes,\n",
    "                        output_nodes=output_nodes,\n",
    "                        learning_rate=learning_rate)\n",
    "\n",
    "for epoch in range(epochs):\n",
    "    for record in data_list:\n",
    "        # Transform one of them to an image\n",
    "        record = record.split(',')\n",
    "\n",
    "        # image_array = numpy.asfarray(training_row[1:]).reshape(28, 28)\n",
    "        # matplotlib.pyplot.imshow(image_array, cmap='Greys', interpolation='None')\n",
    "\n",
    "        # Scale input to [0.01, 1.00]\n",
    "        scaled_input = numpy.asfarray(record[1:]) / 255.0 * 0.99 + 0.01\n",
    "\n",
    "        # Make output nodes\n",
    "        nodes = 10\n",
    "        targets = numpy.zeros(10) + 0.01\n",
    "        targets[int(record[0])] = 0.99\n",
    "\n",
    "        # Train.\n",
    "        network.train(inputs_list=scaled_input, targets_list=targets)\n"
   ]
  },
  {
   "cell_type": "code",
   "execution_count": 4,
   "metadata": {},
   "outputs": [
    {
     "name": "stdout",
     "output_type": "stream",
     "text": [
      "Out of 10000 images, the network correctly predicted 9775\n",
      "Accuracy is 97.75%\n"
     ]
    }
   ],
   "source": [
    "# Testing.\n",
    "data_file = open(\"mnist_dataset/mnist_test.csv\", 'r')\n",
    "data_list = data_file.readlines()\n",
    "data_file.close()\n",
    "\n",
    "verification = list()\n",
    "\n",
    "for record in data_list:\n",
    "    record = record.split(',')\n",
    "\n",
    "    # Get the label\n",
    "    correct_label = int(record[0])\n",
    "\n",
    "    # Scale it for input\n",
    "    scaled_input = numpy.asfarray(record[1:]) / 255.0 * 0.99 + 0.01\n",
    "\n",
    "    # Get the result\n",
    "    result = network.query(scaled_input)\n",
    "\n",
    "    # Get the predicted label\n",
    "    predicted_label = numpy.argmax(result)\n",
    "\n",
    "    if predicted_label == correct_label:\n",
    "        verification.append(1)\n",
    "    else:\n",
    "        verification.append(0)\n",
    "\n",
    "print(f\"Out of {len(verification)} images, the network correctly predicted {sum(verification)}\")\n",
    "print(\n",
    "    f\"Accuracy is {numpy.round(sum(verification) / len(verification) * 100, 2)}%\")\n"
   ]
  },
  {
   "cell_type": "code",
   "execution_count": 5,
   "metadata": {},
   "outputs": [
    {
     "name": "stdout",
     "output_type": "stream",
     "text": [
      "I think the number is... 3\n"
     ]
    },
    {
     "data": {
      "image/png": "[encoded data removed]",
      "text/plain": [
       "<Figure size 640x480 with 1 Axes>"
      ]
     },
     "metadata": {},
     "output_type": "display_data"
    }
   ],
   "source": [
    "# Testing our own\n",
    "image_array = matplotlib.pyplot.imread('three.png')\n",
    "image_data = numpy.zeros(28 * 28)\n",
    "\n",
    "counter = 0\n",
    "\n",
    "# Convert to numpy array\n",
    "for row in image_array:\n",
    "    for pixel in row:\n",
    "        image_data[counter] = 1 - pixel[0]\n",
    "        counter += 1\n",
    "\n",
    "image_data = (image_data * 0.99) + 0.01\n",
    "matplotlib.pyplot.imshow(image_data.reshape(28, 28), cmap='Greys', interpolation='None')\n",
    "\n",
    "print(f\"I think the number is... {numpy.argmax(network.query(list(image_data)))}\")\n"
   ]
  }
 ],
 "metadata": {
  "kernelspec": {
   "display_name": "Python 3",
   "language": "python",
   "name": "python3"
  },
  "language_info": {
   "codemirror_mode": {
    "name": "ipython",
    "version": 3
   },
   "file_extension": ".py",
   "mimetype": "text/x-python",
   "name": "python",
   "nbconvert_exporter": "python",
   "pygments_lexer": "ipython3",
   "version": "3.11.2"
  },
  "orig_nbformat": 4,
  "vscode": {
   "interpreter": {
    "hash": "65faa5f0e24414d924ac4f8368102d05bc76f31ab70d14de5d4b893b3d9b4e90"
   }
  }
 },
 "nbformat": 4,
 "nbformat_minor": 2
}
